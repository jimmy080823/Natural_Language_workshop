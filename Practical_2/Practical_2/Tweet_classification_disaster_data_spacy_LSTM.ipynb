{
 "cells": [
  {
   "cell_type": "markdown",
   "id": "abd4505f-56bd-45b0-b5b7-5166bd582138",
   "metadata": {},
   "source": [
    "# COMP4167 Natural Language Processing\n",
    "# Practical I - Part III\n",
    "\n",
    "In this part we will continue the work on the disaster tweet classification. Here we will:\n",
    "\n",
    "- Transform the data to a pytorch dataset\n",
    "- Build and train LSTM model in pytorch"
   ]
  },
  {
   "cell_type": "markdown",
   "id": "0d8c5c2b-97e8-4dc8-9c1f-55ea32d0ffcc",
   "metadata": {},
   "source": [
    "## Step1 : Pre-process the data and split to train/test/validate"
   ]
  },
  {
   "cell_type": "markdown",
   "id": "021a77dd-f378-4cbc-9dac-0891a6cfa084",
   "metadata": {},
   "source": [
    "In order to use torchtext we need to save *train*, *test* and *validation* datasets into separate files. We need to:\n",
    "- shuffle the data\n",
    "- split the training set further into a training and validation set\n",
    "- save the splits into seperate files suitable for consumption by torchtext"
   ]
  },
  {
   "cell_type": "code",
   "execution_count": 17,
   "id": "34799878-91cb-4f97-902d-7af0a7929a0a",
   "metadata": {},
   "outputs": [],
   "source": [
    "import pandas as pd\n",
    "from sklearn.model_selection import train_test_split\n",
    "import numpy as np\n",
    "import os"
   ]
  },
  {
   "cell_type": "code",
   "execution_count": 18,
   "id": "5e8bb9b4-a057-4fef-a8ea-0cc53d336307",
   "metadata": {},
   "outputs": [],
   "source": [
    "train_data_path = 'data/train.csv'\n",
    "test_data_path = 'data/test.csv'\n",
    "destination_folder = 'data'"
   ]
  },
  {
   "cell_type": "code",
   "execution_count": 19,
   "id": "16be195c-40f0-4345-b8c8-74392eb15f2d",
   "metadata": {},
   "outputs": [],
   "source": [
    "# Split the train data further into training and validation sets\n",
    "train_valid_ratio = 0.1\n",
    "first_n_words = 160 # the maximum number of words to keep in the text"
   ]
  },
  {
   "cell_type": "code",
   "execution_count": 20,
   "id": "7d57b4a5-edf4-4461-b484-59d7cdf63edb",
   "metadata": {},
   "outputs": [],
   "source": [
    "def trim_string(st):\n",
    "    st = st.split(maxsplit=first_n_words)\n",
    "    st = ' '.join(st[:first_n_words])\n",
    "    return st"
   ]
  },
  {
   "cell_type": "code",
   "execution_count": 5,
   "id": "e72656aa-bcb3-4f3c-8e27-5c5962ea8eaa",
   "metadata": {},
   "outputs": [],
   "source": [
    "def prepare_csv(df_train, df_test, seed=27, val_ratio=0.3):\n",
    "    idx = np.arange(df_train.shape[0])\n",
    "    \n",
    "    np.random.seed(int(seed))\n",
    "    np.random.shuffle(idx)\n",
    "    \n",
    "    val_size = int(len(idx) * val_ratio)\n",
    "    \n",
    "    if not os.path.exists('cache'):\n",
    "        os.makedirs('cache')\n",
    "    \n",
    "    df_train['text'] = df_train['text'].apply(trim_string)\n",
    "    df_test['text'] = df_test['text'].apply(trim_string)\n",
    "    \n",
    "    df_train.iloc[idx[val_size:], :][['id', 'target', 'text']].to_csv(\n",
    "        'cache/dataset_train.csv', index=False\n",
    "    )\n",
    "    \n",
    "    df_train.iloc[idx[:val_size], :][['id', 'target', 'text']].to_csv(\n",
    "        'cache/dataset_val.csv', index=False\n",
    "    )\n",
    "    \n",
    "    df_test[['id','text']].to_csv('cache/dataset_test.csv',\n",
    "                   index=False) # test dataset does not have a target column"
   ]
  },
  {
   "cell_type": "code",
   "execution_count": 6,
   "id": "f9db73cb-10a3-464b-bc99-6b9bae5f668e",
   "metadata": {},
   "outputs": [],
   "source": [
    "prepare_csv(pd.read_csv(train_data_path), pd.read_csv(test_data_path), train_valid_ratio)"
   ]
  },
  {
   "cell_type": "markdown",
   "id": "11d08725-7cad-4c4f-b239-ff8ef8f73cb7",
   "metadata": {},
   "source": [
    "## Step 2: Load datasets and prepare vocabulary\n",
    "Now we can reload the data we just saved using pytorch's datapipes:"
   ]
  },
  {
   "cell_type": "code",
   "execution_count": 9,
   "id": "833be03e-a6b9-4652-9fe8-b16712fe1855",
   "metadata": {},
   "outputs": [],
   "source": [
    "import matplotlib.pyplot as plt\n",
    "import torch\n",
    "from torchtext import data\n",
    "import torch.nn as nn\n",
    "from torch.nn.utils.rnn import pack_padded_sequence, pad_packed_sequence\n",
    "import torch.optim as optim\n",
    "from sklearn.metrics import accuracy_score, classification_report, confusion_matrix\n",
    "import seaborn as sns\n",
    "import spacy\n",
    "from torchdata.datapipes.iter import FileOpener, IterableWrapper, CSVParser\n",
    "import os"
   ]
  },
  {
   "cell_type": "code",
   "execution_count": 10,
   "id": "51adc512",
   "metadata": {},
   "outputs": [],
   "source": [
    "device = torch.device('cuda:0' if torch.cuda.is_available()\n",
    "                       else 'cpu')"
   ]
  },
  {
   "cell_type": "code",
   "execution_count": 11,
   "id": "1c11138f-85ef-4459-925d-b684cbaf7798",
   "metadata": {},
   "outputs": [
    {
     "name": "stdout",
     "output_type": "stream",
     "text": [
      "[['1', \"@cnni @PrisonPlanet Climate Change CNN weather 'specialist' warning:wild fires rain flooding noting about the sun? http://t.co/0sZwlWL9qU\"], ['0', '@blazerfan not everyone can see ignoranceshe is Latinoand that is All she can ever benothing morebut an attack dog 4 a hate group GOP'], ['1', 'White people I know you worry tirelessly about black on black crime but what are you going to do about your mass murderer problem?'], ['0', 'Chilli heat wave Doritos never fail!'], ['0', '@BroseidonRex @dapurplesharpie I skimmed through twitter and missed this body bagging.']]\n"
     ]
    }
   ],
   "source": [
    "def TweetClassificationDataset(root, split, shuffle=False):\n",
    "    '''Dataset loading function'''\n",
    "    filename = os.path.join(root, \"dataset_\" + split + \".csv\")\n",
    "    data_pipe = FileOpener([filename], encoding=\"utf-8\") # open the file\n",
    "    data_pipe = CSVParser(data_pipe, skip_lines=1)       # read it as a CSV file\n",
    "    data_pipe = data_pipe.drop([0])                      # delete columns we're not using\n",
    "    return data_pipe.shuffle().set_shuffle(shuffle)\n",
    "\n",
    "\n",
    "print(list(TweetClassificationDataset(\"cache\", split='train'))[:5])"
   ]
  },
  {
   "cell_type": "markdown",
   "id": "6bcf4bc5",
   "metadata": {},
   "source": [
    "Now we can setup our tokenizer and build the vocabulary. Torchtext allows us to use a basic spacy tokenizer by calling `get_tokenizer(\"spacy\")`. We can then build up a vocabulary of all the words in the training set."
   ]
  },
  {
   "cell_type": "code",
   "execution_count": 16,
   "id": "f2e1a059",
   "metadata": {},
   "outputs": [
    {
     "ename": "OSError",
     "evalue": "[E050] Can't find model 'en_core_web_sm'. It doesn't seem to be a Python package or a valid path to a data directory.",
     "output_type": "error",
     "traceback": [
      "\u001b[1;31m---------------------------------------------------------------------------\u001b[0m",
      "\u001b[1;31mOSError\u001b[0m                                   Traceback (most recent call last)",
      "Cell \u001b[1;32mIn[16], line 2\u001b[0m\n\u001b[0;32m      1\u001b[0m \u001b[38;5;28;01mimport\u001b[39;00m \u001b[38;5;21;01mspacy\u001b[39;00m\n\u001b[1;32m----> 2\u001b[0m nlp \u001b[38;5;241m=\u001b[39m spacy\u001b[38;5;241m.\u001b[39mload(\u001b[38;5;124m\"\u001b[39m\u001b[38;5;124men_core_web_sm\u001b[39m\u001b[38;5;124m\"\u001b[39m)\n\u001b[0;32m      3\u001b[0m \u001b[38;5;28;01mimport\u001b[39;00m \u001b[38;5;21;01men_core_web_sm\u001b[39;00m\n\u001b[0;32m      4\u001b[0m nlp \u001b[38;5;241m=\u001b[39m en_core_web_sm\u001b[38;5;241m.\u001b[39mload()\n",
      "File \u001b[1;32mc:\\Users\\USER\\anaconda3\\Lib\\site-packages\\spacy\\__init__.py:51\u001b[0m, in \u001b[0;36mload\u001b[1;34m(name, vocab, disable, enable, exclude, config)\u001b[0m\n\u001b[0;32m     27\u001b[0m \u001b[38;5;28;01mdef\u001b[39;00m \u001b[38;5;21mload\u001b[39m(\n\u001b[0;32m     28\u001b[0m     name: Union[\u001b[38;5;28mstr\u001b[39m, Path],\n\u001b[0;32m     29\u001b[0m     \u001b[38;5;241m*\u001b[39m,\n\u001b[1;32m   (...)\u001b[0m\n\u001b[0;32m     34\u001b[0m     config: Union[Dict[\u001b[38;5;28mstr\u001b[39m, Any], Config] \u001b[38;5;241m=\u001b[39m util\u001b[38;5;241m.\u001b[39mSimpleFrozenDict(),\n\u001b[0;32m     35\u001b[0m ) \u001b[38;5;241m-\u001b[39m\u001b[38;5;241m>\u001b[39m Language:\n\u001b[0;32m     36\u001b[0m \u001b[38;5;250m    \u001b[39m\u001b[38;5;124;03m\"\"\"Load a spaCy model from an installed package or a local path.\u001b[39;00m\n\u001b[0;32m     37\u001b[0m \n\u001b[0;32m     38\u001b[0m \u001b[38;5;124;03m    name (str): Package name or model path.\u001b[39;00m\n\u001b[1;32m   (...)\u001b[0m\n\u001b[0;32m     49\u001b[0m \u001b[38;5;124;03m    RETURNS (Language): The loaded nlp object.\u001b[39;00m\n\u001b[0;32m     50\u001b[0m \u001b[38;5;124;03m    \"\"\"\u001b[39;00m\n\u001b[1;32m---> 51\u001b[0m     \u001b[38;5;28;01mreturn\u001b[39;00m util\u001b[38;5;241m.\u001b[39mload_model(\n\u001b[0;32m     52\u001b[0m         name,\n\u001b[0;32m     53\u001b[0m         vocab\u001b[38;5;241m=\u001b[39mvocab,\n\u001b[0;32m     54\u001b[0m         disable\u001b[38;5;241m=\u001b[39mdisable,\n\u001b[0;32m     55\u001b[0m         enable\u001b[38;5;241m=\u001b[39menable,\n\u001b[0;32m     56\u001b[0m         exclude\u001b[38;5;241m=\u001b[39mexclude,\n\u001b[0;32m     57\u001b[0m         config\u001b[38;5;241m=\u001b[39mconfig,\n\u001b[0;32m     58\u001b[0m     )\n",
      "File \u001b[1;32mc:\\Users\\USER\\anaconda3\\Lib\\site-packages\\spacy\\util.py:472\u001b[0m, in \u001b[0;36mload_model\u001b[1;34m(name, vocab, disable, enable, exclude, config)\u001b[0m\n\u001b[0;32m    470\u001b[0m \u001b[38;5;28;01mif\u001b[39;00m name \u001b[38;5;129;01min\u001b[39;00m OLD_MODEL_SHORTCUTS:\n\u001b[0;32m    471\u001b[0m     \u001b[38;5;28;01mraise\u001b[39;00m \u001b[38;5;167;01mIOError\u001b[39;00m(Errors\u001b[38;5;241m.\u001b[39mE941\u001b[38;5;241m.\u001b[39mformat(name\u001b[38;5;241m=\u001b[39mname, full\u001b[38;5;241m=\u001b[39mOLD_MODEL_SHORTCUTS[name]))  \u001b[38;5;66;03m# type: ignore[index]\u001b[39;00m\n\u001b[1;32m--> 472\u001b[0m \u001b[38;5;28;01mraise\u001b[39;00m \u001b[38;5;167;01mIOError\u001b[39;00m(Errors\u001b[38;5;241m.\u001b[39mE050\u001b[38;5;241m.\u001b[39mformat(name\u001b[38;5;241m=\u001b[39mname))\n",
      "\u001b[1;31mOSError\u001b[0m: [E050] Can't find model 'en_core_web_sm'. It doesn't seem to be a Python package or a valid path to a data directory."
     ]
    }
   ],
   "source": [
    "import spacy\n",
    "nlp = spacy.load(\"en_core_web_sm\")\n",
    "import en_core_web_sm\n",
    "nlp = en_core_web_sm.load()\n",
    "doc = nlp(\"This is a sentence.\")\n",
    "print([(w.text, w.pos_) for w in doc])"
   ]
  },
  {
   "cell_type": "code",
   "execution_count": null,
   "id": "dcd770cb",
   "metadata": {},
   "outputs": [],
   "source": [
    "from torchtext.data import get_tokenizer\n",
    "from torchtext.vocab import build_vocab_from_iterator\n",
    "\n",
    "from spacy.tokenizer import Tokenizer\n",
    "\n",
    "train_dataset  = TweetClassificationDataset(\"cache\", split='train', shuffle=True)\n",
    "tokenizer      = get_tokenizer(\"spacy\")\n",
    "\n",
    "def build_vocabulary(datasets):\n",
    "    for dataset in datasets:\n",
    "        for _, text  in dataset:\n",
    "            yield tokenizer(text.lower())\n",
    "\n",
    "vocab = build_vocab_from_iterator(build_vocabulary([train_dataset]), min_freq=3, specials=[\"<pad>\", \"<unk>\"])\n",
    "vocab.set_default_index(vocab[\"<unk>\"]) # if a word is not in the vocab - use the <unk> token"
   ]
  },
  {
   "cell_type": "markdown",
   "id": "204d1495",
   "metadata": {},
   "source": [
    "We can now test out our tokenizer on a sample string. Notice how the out-of-vocabulary word `nlptown` is given the ID `1` in the output - this is the `<unk>` token."
   ]
  },
  {
   "cell_type": "code",
   "execution_count": 11,
   "id": "b76ac103",
   "metadata": {},
   "outputs": [
    {
     "name": "stdout",
     "output_type": "stream",
     "text": [
      "['I', 'saw', 'a', 'forest', 'fire', 'yesterday', 'in', 'nlptown', '.'] [1, 424, 6, 221, 64, 1649, 7, 1, 4]\n"
     ]
    }
   ],
   "source": [
    "# Test tokenizing\n",
    "tokens = tokenizer(\"I saw a forest fire yesterday in nlptown.\")\n",
    "print(tokens, vocab(tokens))"
   ]
  },
  {
   "cell_type": "markdown",
   "id": "1fe463fd",
   "metadata": {},
   "source": [
    "We can print out some of the vocab:"
   ]
  },
  {
   "cell_type": "code",
   "execution_count": 12,
   "id": "f58238f6",
   "metadata": {
    "scrolled": true
   },
   "outputs": [
    {
     "name": "stdout",
     "output_type": "stream",
     "text": [
      "['<pad>', '<unk>', '#', 'the', '.', '?', 'a', 'in', 'to', ':', 'of', 'i', '-', 'and', \"'\", '!', '...', 'is', 'for', 'you', 'on', 'it', \"'s\", 'my', 'that', 'with', 'at', 'by', ';', \"n't\", 'this', 'from', 'are', 'be', 'have', '_', 'was', '&', 'do', 'up', 'like', 'just', 'as', 'me', '(', 'but', 'so', 'amp', 'not', 'we', ')', 'your', 'out', 'has', 'no', 'he', 'after', 'will', 'all', 'if', 'when', 'an', \"'m\", 'now', 'fire', 'what', 'get', 'new', 'more', 'or', 'they', '/', 'about', 'via', 'there', 'one', 'who', 'over', '2', 'been', 'how', 'people', '*', 'into', 'news', 'emergency', 'video', 'can', 'disaster', 'would', '|', 'police', '[', 'still', ']', 'burning', 'back', 'his', 'were', 'ca', 'california', \"'re\", 'than', 'off', 'us', 'her', 'some', 'body', 'crash', 'suicide', '..', 'storm', 'first', 'got', 'm', 'going', 'why', '3', 'buildings', 'did', 'had', 'day', 'know', 'man', 'dead', 'rt', 'today', 'fires', 'killed', 'nuclear', 'world', 'being', 'see', 'time', 'them', 'year', 'families', 'here', 'hiroshima', 'love', 'train', 'our', 'go', 'may', 'war', 'attack', 'bomb', 'could', 'life', 'only', 'say', 'two', 'car', 'good', 'u', '5', 'accident', 'best', 'down', 'their', 'full', 'mass', 'old', 'watch', '@youtube', 'collapse', 'last', 'many', 'she', 'another', 'its', 'pm', 'death', 'look', 'right', 'should', 'think', 'way', 'years', '2015', 'home', 'need', 'really', 'because', 'bombing', 'hot', 'mh370', 'those', 'help', 'take', 'want', 'wildfire', 'am', 'too', 'work', '....', '4', 'even', 'him', 'obama']\n"
     ]
    }
   ],
   "source": [
    "print(vocab.vocab.get_itos()[:200])"
   ]
  },
  {
   "cell_type": "markdown",
   "id": "aecdab5d-62a2-42f0-bbe7-da4a5b918d8c",
   "metadata": {},
   "source": [
    "Next we can use this tokenization functionality to turn batches of data into vectors, ready to be input into the classifier. We do this using a `DataLoader`.\n",
    "\n",
    "There are 2 key arguments we pass to the `DataLoader`:\n",
    "- `batch_sampler` - this argument defines how we split the dataset into batches. In our example we're using bucket sampling which groups texts of similar lengths together, minimising the amount of padding we need to do and speeding up training time.\n",
    "- `collate_fn` - this is a function which takes a batch of data (label,text) and converts this into a input for the model. This involves tokenizing and vectorizing the data using the tokenizer we defined previously. We also add the special tokens."
   ]
  },
  {
   "cell_type": "code",
   "execution_count": 13,
   "id": "30994130",
   "metadata": {
    "scrolled": true
   },
   "outputs": [],
   "source": [
    "from torch.utils.data import DataLoader, Sampler\n",
    "from torchtext.data.functional import to_map_style_dataset\n",
    "from torch.nn.utils.rnn import pad_sequence\n",
    "import random\n",
    "\n",
    "BATCH_SIZE = 32\n",
    "\n",
    "train_dataset  = TweetClassificationDataset(\"cache\", split='train', shuffle=True)\n",
    "val_dataset    = TweetClassificationDataset(\"cache\", split='val')\n",
    "train_dataset, val_dataset  = to_map_style_dataset(train_dataset), to_map_style_dataset(val_dataset)\n",
    "\n",
    "def vectorize_batch(batch):\n",
    "    '''Take a batch of (text,label) pairs and return tensors ready for input to the model.'''\n",
    "    label_list, text_list = [], []\n",
    "    for (_label, _text) in batch:\n",
    "        label_list.append(int(_label))\n",
    "        tokens = vocab(tokenizer(_text.lower()))\n",
    "        text_list.append(torch.tensor(tokens))\n",
    "    return pad_sequence(text_list, padding_value=vocab.lookup_indices([\"<pad>\"])[0], batch_first=True), torch.tensor(label_list)\n",
    "\n",
    "\n",
    "class BucketSampler(Sampler):\n",
    "    '''Tells the DataLoader how to split the dataset into buckets.\n",
    "       We do this based on text length - make sure batches have similar text lengths to reduce padding.\n",
    "    '''\n",
    "    def __init__(self, dataset, batch_size):\n",
    "        train_list = list(dataset)\n",
    "        indices = [(i, len(tokenizer(s[1]))) for i, s in enumerate(train_list)]\n",
    "        random.shuffle(indices)\n",
    "        self.batch_size = batch_size\n",
    "        \n",
    "        # create pool of indices with similar lengths \n",
    "        self.pooled_indices = []\n",
    "        for i in range(0, len(indices), self.batch_size * 100):\n",
    "            self.pooled_indices.extend(sorted(indices[i:i + self.batch_size * 100], key=lambda x: x[1]))\n",
    "        self.pooled_indices = [x[0] for x in self.pooled_indices]\n",
    "        \n",
    "    def __iter__(self):\n",
    "        self.count = 0\n",
    "        return self\n",
    "    \n",
    "    def __next__(self):\n",
    "        # yield indices for current batch\n",
    "        if self.count >= len(self.pooled_indices)-self.batch_size:\n",
    "            raise StopIteration\n",
    "        \n",
    "        indices = self.pooled_indices[self.count:self.count + self.batch_size]\n",
    "        self.count += self.batch_size\n",
    "        return indices\n",
    "        \n",
    "    def __len__(self):\n",
    "        return len(self.pooled_indices)//self.batch_size\n",
    "\n",
    "    \n",
    "train_loader = DataLoader(train_dataset, collate_fn=vectorize_batch, batch_sampler=BucketSampler(train_dataset, batch_size=BATCH_SIZE))\n",
    "val_loader   = DataLoader(val_dataset,   collate_fn=vectorize_batch, batch_sampler=BucketSampler(val_dataset, batch_size=BATCH_SIZE))#, batch_size=BATCH_SIZE)"
   ]
  },
  {
   "cell_type": "markdown",
   "id": "423ea9b1-151b-4fd6-b2cb-3c04537ae547",
   "metadata": {},
   "source": [
    "### Step 3: Build the LSTM model"
   ]
  },
  {
   "cell_type": "markdown",
   "id": "feebf8dc-efad-4767-bb09-1f8efa65a38c",
   "metadata": {},
   "source": [
    "For this task we will try to use an LSTM network.\n",
    "\n",
    "First we write a new sub class to torch.nn.Module. The structure of the model is defined in the \\__init__ of the class, while the forward method describes the computation of the forward pass.\n",
    "\n",
    "The network consists of n_layers:\n",
    "- an embedding layer is added to the input\n",
    "- 1 LSTM layer\n",
    "- a dropout is added\n",
    "- a linear layer\n",
    "- a final layer with sigmoid activation function"
   ]
  },
  {
   "cell_type": "code",
   "execution_count": 14,
   "id": "1b5f2316-8a91-4344-b171-5e95ad94e2ed",
   "metadata": {},
   "outputs": [
    {
     "name": "stdout",
     "output_type": "stream",
     "text": [
      "Layers:\n",
      "\tEmbedding(3524, 300)\n",
      "\tLSTM(300, 64, batch_first=True, bidirectional=True)\n",
      "\tDropout(p=0.5, inplace=False)\n",
      "\tLinear(in_features=128, out_features=1, bias=True)\n"
     ]
    }
   ],
   "source": [
    "from torch import nn\n",
    "from torch.nn import functional as F\n",
    "\n",
    "class TEXT_LSTM(nn.Module):\n",
    "    def __init__(self, dimension=64):\n",
    "        super(TEXT_LSTM, self).__init__()\n",
    "        self.embedding_layer = nn.Embedding(len(vocab), 300)\n",
    "        self.rnn = nn.LSTM(\n",
    "            input_size=300,\n",
    "            hidden_size=dimension,\n",
    "            num_layers=1,\n",
    "            bidirectional=True,\n",
    "            batch_first=True)\n",
    "        self.drop = nn.Dropout(p=0.5)\n",
    "        self.fc = nn.Linear(2*dimension, 1)\n",
    "\n",
    "    def forward(self, X_batch):\n",
    "        embeddings = self.embedding_layer(X_batch)\n",
    "        output, hidden = self.rnn(embeddings)\n",
    "        text_fea = self.drop(output[:,-1])\n",
    "        text_fea = self.fc(text_fea)\n",
    "        text_fea = torch.squeeze(text_fea,1)\n",
    "        text_out = torch.sigmoid(text_fea)\n",
    "        return text_out\n",
    "\n",
    "    \n",
    "# Print out the layers\n",
    "model = TEXT_LSTM()\n",
    "print(\"Layers:\")\n",
    "for layer in model.children():\n",
    "    print(\"\\t{}\".format(layer))"
   ]
  },
  {
   "cell_type": "markdown",
   "id": "912a6b66-300f-4aa2-ad38-1b1b3e45d798",
   "metadata": {},
   "source": [
    "### Step 4: Training"
   ]
  },
  {
   "cell_type": "markdown",
   "id": "9f77ccd0",
   "metadata": {},
   "source": [
    "First we define a set of helper functions which will allow us to save and load our progress while training:"
   ]
  },
  {
   "cell_type": "code",
   "execution_count": 15,
   "id": "32d7a3fa-1384-4660-bcc9-63d2f86e411f",
   "metadata": {},
   "outputs": [],
   "source": [
    "def save_checkpoint(save_path,model,optimizer,valid_loss):\n",
    "    if save_path == None:\n",
    "        return\n",
    "    state_dict ={'model_state_dict': model.state_dict(),\n",
    "                 'optimizer_state_dict': optimizer.state_dict(),\n",
    "                 'valid_loss': valid_loss}\n",
    "    torch.save(state_dict, save_path)\n",
    "    print(f'Model saved to ==> {save_path}')\n",
    "    \n",
    "def load_checkpoint(load_path,model,optimizer):\n",
    "    if load_path == None:\n",
    "        return\n",
    "    state_dict = torch.load(load_path)\n",
    "    print(f'Model loaded from <== {load_path}')\n",
    "    \n",
    "    model.load_state_dict(state_dict['model_state_dict'])\n",
    "    optimizer.load_state_dict(state_dict['optimizer_state_dict'])\n",
    "    \n",
    "    return state_dict['valid_loss']\n",
    "\n",
    "def save_metrics(save_path,train_loss_list, valid_loss_list,global_steps_list):\n",
    "    if save_path==None:\n",
    "        return\n",
    "    state_dict= {'train_loss_list': train_loss_list,\n",
    "                 'valid_loss_list': valid_loss_list,\n",
    "                 'global_steps_list': global_steps_list}\n",
    "    torch.save(state_dict, save_path)\n",
    "    print(f'Metrics saved to ==> {save_path}')\n",
    "    \n",
    "def load_metrics(load_path):\n",
    "    if load_path == None:\n",
    "        return \n",
    "    state_dict = torch.load(load_path)\n",
    "    print(f'Metrics loaded from <== {load_path}')\n",
    "    return state_dict['train_loss_list'],state_dict['valid_loss_list'],state_dict['global_steps_list']"
   ]
  },
  {
   "cell_type": "markdown",
   "id": "c407bda8-881c-4a31-ac8c-d1161a06e34c",
   "metadata": {},
   "source": [
    "To train the model for each epoch on the training set:\n",
    "\n",
    "- for each batch:\n",
    "- do a forward pass to get model prediction\n",
    "- calculate the loss\n",
    "- do the backward pass to update the model parameters\n",
    "\n",
    "To evaluate the model on the validation set:\n",
    "- run the forward pass (with no_grad option)\n",
    "- calculate the loss"
   ]
  },
  {
   "cell_type": "markdown",
   "id": "e4c409ad",
   "metadata": {},
   "source": [
    "Now we build our main training loop:"
   ]
  },
  {
   "cell_type": "code",
   "execution_count": 16,
   "id": "2a0d8e51",
   "metadata": {},
   "outputs": [
    {
     "name": "stdout",
     "output_type": "stream",
     "text": [
      "Epoch[1/5], Step [83/830], Train loss:0.6882, Valid loss:0.6682\n",
      "Model saved to ==> data/model.pt\n",
      "Metrics saved to ==> data/metrics.pt\n",
      "Epoch[1/5], Step [166/830], Train loss:0.6670, Valid loss:0.6335\n",
      "Model saved to ==> data/model.pt\n",
      "Metrics saved to ==> data/metrics.pt\n",
      "Epoch[2/5], Step [249/830], Train loss:0.5932, Valid loss:0.5425\n",
      "Model saved to ==> data/model.pt\n",
      "Metrics saved to ==> data/metrics.pt\n",
      "Epoch[2/5], Step [332/830], Train loss:0.5462, Valid loss:0.5172\n",
      "Model saved to ==> data/model.pt\n",
      "Metrics saved to ==> data/metrics.pt\n",
      "Epoch[3/5], Step [415/830], Train loss:0.4275, Valid loss:0.4934\n",
      "Model saved to ==> data/model.pt\n",
      "Metrics saved to ==> data/metrics.pt\n",
      "Epoch[3/5], Step [498/830], Train loss:0.4217, Valid loss:0.4803\n",
      "Model saved to ==> data/model.pt\n",
      "Metrics saved to ==> data/metrics.pt\n",
      "Epoch[4/5], Step [581/830], Train loss:0.3278, Valid loss:0.5058\n",
      "Epoch[4/5], Step [664/830], Train loss:0.3249, Valid loss:0.4837\n",
      "Epoch[5/5], Step [747/830], Train loss:0.2579, Valid loss:0.5143\n",
      "Epoch[5/5], Step [830/830], Train loss:0.2656, Valid loss:0.5129\n",
      "Metrics saved to ==> data/metrics.pt\n",
      "Training is Done!\n"
     ]
    }
   ],
   "source": [
    "def train(model,\n",
    "          optimizer,\n",
    "          criterion = nn.BCELoss(),\n",
    "          train_loader = train_loader,\n",
    "          valid_loader = val_loader,\n",
    "          num_epochs = 5,\n",
    "          eval_every = len(train_loader) // 2,\n",
    "          file_path = \"output\",\n",
    "          best_valid_loss = float(\"Inf\")):\n",
    "    \n",
    "    # Initial running values\n",
    "    running_loss = 0.0\n",
    "    valid_running_loss = 0.0\n",
    "    global_step = 0\n",
    "    train_loss_list=[]\n",
    "    valid_loss_list = []\n",
    "    global_steps_list = []\n",
    "    \n",
    "    # Training Loop\n",
    "    model.train()\n",
    "    for epoch in range(num_epochs):\n",
    "        losses = []\n",
    "        for text, labels in train_loader:\n",
    "            # Move everything to the right device\n",
    "            text   = text.to(device)\n",
    "            labels = labels.to(device)\n",
    "            \n",
    "            # Forward pass\n",
    "            output = model(text)\n",
    "\n",
    "            # Calculate loss\n",
    "            loss = criterion(output.to(torch.float32), labels.to(torch.float32))\n",
    "            losses.append(loss.item())\n",
    "\n",
    "            # Backward pass\n",
    "            optimizer.zero_grad()\n",
    "            loss.backward()\n",
    "            optimizer.step()\n",
    "            \n",
    "            # Update running values\n",
    "            running_loss += loss.item()\n",
    "            global_step  += 1\n",
    "            \n",
    "            \n",
    "            # Evaluation step\n",
    "            if global_step % eval_every == 0:\n",
    "                model.eval()\n",
    "                with torch.no_grad():\n",
    "                    # Validation loop\n",
    "                    for text, labels in valid_loader:\n",
    "                        labels = labels.to(device)\n",
    "                        text = text.to(device)\n",
    "                        output = model(text)\n",
    "                        \n",
    "                        loss = criterion(output.to(torch.float32), labels.to(torch.float32))\n",
    "                        valid_running_loss += loss.item()\n",
    "                    \n",
    "                # Evaluation\n",
    "                average_train_loss = running_loss/eval_every\n",
    "                average_valid_loss = valid_running_loss/len(valid_loader)\n",
    "                train_loss_list.append(average_train_loss)\n",
    "                valid_loss_list.append(average_valid_loss)\n",
    "                global_steps_list.append(global_step)\n",
    "\n",
    "                # Resetting running values\n",
    "                running_loss = 0.0\n",
    "                valid_running_loss = 0.0\n",
    "                model.train()\n",
    "\n",
    "                print('Epoch[{}/{}], Step [{}/{}], Train loss:{:.4f}, Valid loss:{:.4f}'.format(\n",
    "                epoch+1, num_epochs, global_step, num_epochs*len(train_loader),average_train_loss,\n",
    "                    average_valid_loss))\n",
    "\n",
    "                # Checkpoint\n",
    "                if best_valid_loss > average_valid_loss:\n",
    "                    best_valid_loss = average_valid_loss\n",
    "                    save_checkpoint(file_path+'/model.pt',model, optimizer, best_valid_loss)\n",
    "                    save_metrics(file_path+'/metrics.pt',train_loss_list,valid_loss_list,global_steps_list)\n",
    "                    \n",
    "    save_metrics(file_path+'/metrics.pt', train_loss_list,valid_loss_list,global_steps_list)\n",
    "    print('Training is Done!')\n",
    "    \n",
    "\n",
    "loss_fn = nn.BCELoss()\n",
    "optimizer = optim.Adam(model.parameters(), lr=1e-3)\n",
    "model = model.to(device)\n",
    "\n",
    "train(model, optimizer, num_epochs=5, file_path=destination_folder)"
   ]
  },
  {
   "cell_type": "markdown",
   "id": "b07549b5",
   "metadata": {},
   "source": [
    "Now the training is done, lets have a look at what happened to the training and validation losses:"
   ]
  },
  {
   "cell_type": "code",
   "execution_count": 17,
   "id": "52ae4cbc-b9b2-4ca0-a9a0-9f4ad1da9eb5",
   "metadata": {},
   "outputs": [
    {
     "name": "stdout",
     "output_type": "stream",
     "text": [
      "Metrics loaded from <== data/metrics.pt\n"
     ]
    },
    {
     "data": {
      "image/png": "[encoded data removed]",
      "text/plain": [
       "<Figure size 640x480 with 1 Axes>"
      ]
     },
     "metadata": {},
     "output_type": "display_data"
    }
   ],
   "source": [
    "# Examine model training\n",
    "train_loss_list, valid_loss_list, global_steps_list = load_metrics(destination_folder+'/metrics.pt')\n",
    "plt.plot(global_steps_list,valid_loss_list,label='Valid')\n",
    "plt.plot(global_steps_list,train_loss_list,label='Train')\n",
    "plt.xlabel('Global Steps')\n",
    "plt.ylabel('Loss')\n",
    "plt.legend()\n",
    "plt.show()"
   ]
  },
  {
   "cell_type": "markdown",
   "id": "ef9b4add-4786-48a9-88e7-83cbfac35ad3",
   "metadata": {},
   "source": [
    "### Step 5: Evaluation\n",
    "Reload the best performing model from the training run and evaluate it using the sklearn evaluation tools:"
   ]
  },
  {
   "cell_type": "code",
   "execution_count": 18,
   "id": "7e665dea-4e0e-47b8-86f8-f2cac8248fc2",
   "metadata": {},
   "outputs": [],
   "source": [
    "def evaluate(model, test_loader, version='title', threshold=0.5):\n",
    "    y_pred = []\n",
    "    y_true = []\n",
    "    model.eval()\n",
    "    with torch.no_grad():\n",
    "        for text, labels in test_loader:\n",
    "            labels = labels.to(device)\n",
    "            text = text.to(device)\n",
    "            #text_len = text_len.to(device)\n",
    "            output = model(text)\n",
    "            \n",
    "            output = (output > threshold).int()\n",
    "            y_pred.extend(output.tolist())\n",
    "            y_true.extend(labels.tolist())\n",
    "            \n",
    "    print('Classification Report:')\n",
    "    print(classification_report(y_true,y_pred,labels=[1,0], digits=4))\n",
    "    \n",
    "    cm = confusion_matrix(y_true,y_pred,labels=[1,0])\n",
    "    ax = plt.subplot()\n",
    "    sns.heatmap(cm,annot=True, ax=ax,cmap='Blues',fmt='d')\n",
    "    \n",
    "    ax.set_title('Confusion Matrix')\n",
    "    ax.set_xlabel('Predicated Labels')\n",
    "    ax.set_ylabel('True Labels')\n",
    "    \n",
    "    ax.xaxis.set_ticklabels(['Real','Irrelevant'])\n",
    "    ax.yaxis.set_ticklabels(['Real','Irrelevant'])"
   ]
  },
  {
   "cell_type": "code",
   "execution_count": 19,
   "id": "d4dd6818-f08e-404b-bda6-e0072881855f",
   "metadata": {},
   "outputs": [
    {
     "name": "stdout",
     "output_type": "stream",
     "text": [
      "Model loaded from <== data/model.pt\n",
      "Classification Report:\n",
      "              precision    recall  f1-score   support\n",
      "\n",
      "           1     0.7986    0.6225    0.6996       943\n",
      "           0     0.7684    0.8886    0.8241      1329\n",
      "\n",
      "    accuracy                         0.7782      2272\n",
      "   macro avg     0.7835    0.7556    0.7619      2272\n",
      "weighted avg     0.7809    0.7782    0.7725      2272\n",
      "\n"
     ]
    },
    {
     "data": {
      "image/png": "[encoded data removed]",
      "text/plain": [
       "<Figure size 640x480 with 2 Axes>"
      ]
     },
     "metadata": {},
     "output_type": "display_data"
    }
   ],
   "source": [
    "best_model = TEXT_LSTM().to(device)\n",
    "optimizer = optim.Adam(best_model.parameters(), lr = 0.001)\n",
    "load_checkpoint(destination_folder+'/model.pt',best_model,optimizer)\n",
    "evaluate(best_model, val_loader)"
   ]
  }
 ],
 "metadata": {
  "kernelspec": {
   "display_name": "Python 3 (ipykernel)",
   "language": "python",
   "name": "python3"
  },
  "language_info": {
   "codemirror_mode": {
    "name": "ipython",
    "version": 3
   },
   "file_extension": ".py",
   "mimetype": "text/x-python",
   "name": "python",
   "nbconvert_exporter": "python",
   "pygments_lexer": "ipython3",
   "version": "3.11.5"
  }
 },
 "nbformat": 4,
 "nbformat_minor": 5
}
